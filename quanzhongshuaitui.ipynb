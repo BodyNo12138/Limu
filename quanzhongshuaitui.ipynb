{
  "nbformat": 4,
  "nbformat_minor": 0,
  "metadata": {
    "colab": {
      "name": "Untitled20.ipynb",
      "provenance": [],
      "authorship_tag": "ABX9TyPMJtWZPCC5pQXXHoDd0Rt7",
      "include_colab_link": true
    },
    "kernelspec": {
      "name": "python3",
      "display_name": "Python 3"
    },
    "language_info": {
      "name": "python"
    }
  },
  "cells": [
    {
      "cell_type": "markdown",
      "metadata": {
        "id": "view-in-github",
        "colab_type": "text"
      },
      "source": [
        "<a href=\"https://colab.research.google.com/github/BodyNo12138/Limu/blob/main/quanzhongshuaitui.ipynb\" target=\"_parent\"><img src=\"https://colab.research.google.com/assets/colab-badge.svg\" alt=\"Open In Colab\"/></a>"
      ]
    },
    {
      "cell_type": "code",
      "execution_count": 117,
      "metadata": {
        "colab": {
          "base_uri": "https://localhost:8080/"
        },
        "id": "zAWyYbXPzcN1",
        "outputId": "953c329a-059d-4212-d5de-fda90f274fd5"
      },
      "outputs": [
        {
          "output_type": "stream",
          "name": "stdout",
          "text": [
            "Looking in indexes: https://pypi.org/simple, https://us-python.pkg.dev/colab-wheels/public/simple/\n",
            "Requirement already satisfied: d2l in /usr/local/lib/python3.7/dist-packages (0.17.5)\n",
            "Requirement already satisfied: pandas==1.2.4 in /usr/local/lib/python3.7/dist-packages (from d2l) (1.2.4)\n",
            "Requirement already satisfied: matplotlib==3.5.1 in /usr/local/lib/python3.7/dist-packages (from d2l) (3.5.1)\n",
            "Requirement already satisfied: numpy==1.21.5 in /usr/local/lib/python3.7/dist-packages (from d2l) (1.21.5)\n",
            "Requirement already satisfied: jupyter==1.0.0 in /usr/local/lib/python3.7/dist-packages (from d2l) (1.0.0)\n",
            "Requirement already satisfied: requests==2.25.1 in /usr/local/lib/python3.7/dist-packages (from d2l) (2.25.1)\n",
            "Requirement already satisfied: ipykernel in /usr/local/lib/python3.7/dist-packages (from jupyter==1.0.0->d2l) (4.10.1)\n",
            "Requirement already satisfied: jupyter-console in /usr/local/lib/python3.7/dist-packages (from jupyter==1.0.0->d2l) (5.2.0)\n",
            "Requirement already satisfied: qtconsole in /usr/local/lib/python3.7/dist-packages (from jupyter==1.0.0->d2l) (5.3.0)\n",
            "Requirement already satisfied: notebook in /usr/local/lib/python3.7/dist-packages (from jupyter==1.0.0->d2l) (5.3.1)\n",
            "Requirement already satisfied: ipywidgets in /usr/local/lib/python3.7/dist-packages (from jupyter==1.0.0->d2l) (7.7.0)\n",
            "Requirement already satisfied: nbconvert in /usr/local/lib/python3.7/dist-packages (from jupyter==1.0.0->d2l) (5.6.1)\n",
            "Requirement already satisfied: packaging>=20.0 in /usr/local/lib/python3.7/dist-packages (from matplotlib==3.5.1->d2l) (21.3)\n",
            "Requirement already satisfied: fonttools>=4.22.0 in /usr/local/lib/python3.7/dist-packages (from matplotlib==3.5.1->d2l) (4.33.3)\n",
            "Requirement already satisfied: pillow>=6.2.0 in /usr/local/lib/python3.7/dist-packages (from matplotlib==3.5.1->d2l) (7.1.2)\n",
            "Requirement already satisfied: cycler>=0.10 in /usr/local/lib/python3.7/dist-packages (from matplotlib==3.5.1->d2l) (0.11.0)\n",
            "Requirement already satisfied: python-dateutil>=2.7 in /usr/local/lib/python3.7/dist-packages (from matplotlib==3.5.1->d2l) (2.8.2)\n",
            "Requirement already satisfied: pyparsing>=2.2.1 in /usr/local/lib/python3.7/dist-packages (from matplotlib==3.5.1->d2l) (3.0.9)\n",
            "Requirement already satisfied: kiwisolver>=1.0.1 in /usr/local/lib/python3.7/dist-packages (from matplotlib==3.5.1->d2l) (1.4.2)\n",
            "Requirement already satisfied: pytz>=2017.3 in /usr/local/lib/python3.7/dist-packages (from pandas==1.2.4->d2l) (2022.1)\n",
            "Requirement already satisfied: idna<3,>=2.5 in /usr/local/lib/python3.7/dist-packages (from requests==2.25.1->d2l) (2.10)\n",
            "Requirement already satisfied: chardet<5,>=3.0.2 in /usr/local/lib/python3.7/dist-packages (from requests==2.25.1->d2l) (3.0.4)\n",
            "Requirement already satisfied: urllib3<1.27,>=1.21.1 in /usr/local/lib/python3.7/dist-packages (from requests==2.25.1->d2l) (1.24.3)\n",
            "Requirement already satisfied: certifi>=2017.4.17 in /usr/local/lib/python3.7/dist-packages (from requests==2.25.1->d2l) (2022.5.18.1)\n",
            "Requirement already satisfied: typing-extensions in /usr/local/lib/python3.7/dist-packages (from kiwisolver>=1.0.1->matplotlib==3.5.1->d2l) (4.2.0)\n",
            "Requirement already satisfied: six>=1.5 in /usr/local/lib/python3.7/dist-packages (from python-dateutil>=2.7->matplotlib==3.5.1->d2l) (1.15.0)\n",
            "Requirement already satisfied: traitlets>=4.1.0 in /usr/local/lib/python3.7/dist-packages (from ipykernel->jupyter==1.0.0->d2l) (5.1.1)\n",
            "Requirement already satisfied: tornado>=4.0 in /usr/local/lib/python3.7/dist-packages (from ipykernel->jupyter==1.0.0->d2l) (5.1.1)\n",
            "Requirement already satisfied: jupyter-client in /usr/local/lib/python3.7/dist-packages (from ipykernel->jupyter==1.0.0->d2l) (5.3.5)\n",
            "Requirement already satisfied: ipython>=4.0.0 in /usr/local/lib/python3.7/dist-packages (from ipykernel->jupyter==1.0.0->d2l) (5.5.0)\n",
            "Requirement already satisfied: pygments in /usr/local/lib/python3.7/dist-packages (from ipython>=4.0.0->ipykernel->jupyter==1.0.0->d2l) (2.6.1)\n",
            "Requirement already satisfied: decorator in /usr/local/lib/python3.7/dist-packages (from ipython>=4.0.0->ipykernel->jupyter==1.0.0->d2l) (4.4.2)\n",
            "Requirement already satisfied: pexpect in /usr/local/lib/python3.7/dist-packages (from ipython>=4.0.0->ipykernel->jupyter==1.0.0->d2l) (4.8.0)\n",
            "Requirement already satisfied: prompt-toolkit<2.0.0,>=1.0.4 in /usr/local/lib/python3.7/dist-packages (from ipython>=4.0.0->ipykernel->jupyter==1.0.0->d2l) (1.0.18)\n",
            "Requirement already satisfied: pickleshare in /usr/local/lib/python3.7/dist-packages (from ipython>=4.0.0->ipykernel->jupyter==1.0.0->d2l) (0.7.5)\n",
            "Requirement already satisfied: setuptools>=18.5 in /usr/local/lib/python3.7/dist-packages (from ipython>=4.0.0->ipykernel->jupyter==1.0.0->d2l) (57.4.0)\n",
            "Requirement already satisfied: simplegeneric>0.8 in /usr/local/lib/python3.7/dist-packages (from ipython>=4.0.0->ipykernel->jupyter==1.0.0->d2l) (0.8.1)\n",
            "Requirement already satisfied: wcwidth in /usr/local/lib/python3.7/dist-packages (from prompt-toolkit<2.0.0,>=1.0.4->ipython>=4.0.0->ipykernel->jupyter==1.0.0->d2l) (0.2.5)\n",
            "Requirement already satisfied: nbformat>=4.2.0 in /usr/local/lib/python3.7/dist-packages (from ipywidgets->jupyter==1.0.0->d2l) (5.4.0)\n",
            "Requirement already satisfied: ipython-genutils~=0.2.0 in /usr/local/lib/python3.7/dist-packages (from ipywidgets->jupyter==1.0.0->d2l) (0.2.0)\n",
            "Requirement already satisfied: jupyterlab-widgets>=1.0.0 in /usr/local/lib/python3.7/dist-packages (from ipywidgets->jupyter==1.0.0->d2l) (1.1.0)\n",
            "Requirement already satisfied: widgetsnbextension~=3.6.0 in /usr/local/lib/python3.7/dist-packages (from ipywidgets->jupyter==1.0.0->d2l) (3.6.0)\n",
            "Requirement already satisfied: jsonschema>=2.6 in /usr/local/lib/python3.7/dist-packages (from nbformat>=4.2.0->ipywidgets->jupyter==1.0.0->d2l) (4.3.3)\n",
            "Requirement already satisfied: jupyter-core in /usr/local/lib/python3.7/dist-packages (from nbformat>=4.2.0->ipywidgets->jupyter==1.0.0->d2l) (4.10.0)\n",
            "Requirement already satisfied: fastjsonschema in /usr/local/lib/python3.7/dist-packages (from nbformat>=4.2.0->ipywidgets->jupyter==1.0.0->d2l) (2.15.3)\n",
            "Requirement already satisfied: pyrsistent!=0.17.0,!=0.17.1,!=0.17.2,>=0.14.0 in /usr/local/lib/python3.7/dist-packages (from jsonschema>=2.6->nbformat>=4.2.0->ipywidgets->jupyter==1.0.0->d2l) (0.18.1)\n",
            "Requirement already satisfied: importlib-resources>=1.4.0 in /usr/local/lib/python3.7/dist-packages (from jsonschema>=2.6->nbformat>=4.2.0->ipywidgets->jupyter==1.0.0->d2l) (5.7.1)\n",
            "Requirement already satisfied: attrs>=17.4.0 in /usr/local/lib/python3.7/dist-packages (from jsonschema>=2.6->nbformat>=4.2.0->ipywidgets->jupyter==1.0.0->d2l) (21.4.0)\n",
            "Requirement already satisfied: importlib-metadata in /usr/local/lib/python3.7/dist-packages (from jsonschema>=2.6->nbformat>=4.2.0->ipywidgets->jupyter==1.0.0->d2l) (4.11.3)\n",
            "Requirement already satisfied: zipp>=3.1.0 in /usr/local/lib/python3.7/dist-packages (from importlib-resources>=1.4.0->jsonschema>=2.6->nbformat>=4.2.0->ipywidgets->jupyter==1.0.0->d2l) (3.8.0)\n",
            "Requirement already satisfied: jinja2 in /usr/local/lib/python3.7/dist-packages (from notebook->jupyter==1.0.0->d2l) (2.11.3)\n",
            "Requirement already satisfied: Send2Trash in /usr/local/lib/python3.7/dist-packages (from notebook->jupyter==1.0.0->d2l) (1.8.0)\n",
            "Requirement already satisfied: terminado>=0.8.1 in /usr/local/lib/python3.7/dist-packages (from notebook->jupyter==1.0.0->d2l) (0.13.3)\n",
            "Requirement already satisfied: pyzmq>=13 in /usr/local/lib/python3.7/dist-packages (from jupyter-client->ipykernel->jupyter==1.0.0->d2l) (23.0.0)\n",
            "Requirement already satisfied: ptyprocess in /usr/local/lib/python3.7/dist-packages (from terminado>=0.8.1->notebook->jupyter==1.0.0->d2l) (0.7.0)\n",
            "Requirement already satisfied: MarkupSafe>=0.23 in /usr/local/lib/python3.7/dist-packages (from jinja2->notebook->jupyter==1.0.0->d2l) (2.0.1)\n",
            "Requirement already satisfied: defusedxml in /usr/local/lib/python3.7/dist-packages (from nbconvert->jupyter==1.0.0->d2l) (0.7.1)\n",
            "Requirement already satisfied: mistune<2,>=0.8.1 in /usr/local/lib/python3.7/dist-packages (from nbconvert->jupyter==1.0.0->d2l) (0.8.4)\n",
            "Requirement already satisfied: pandocfilters>=1.4.1 in /usr/local/lib/python3.7/dist-packages (from nbconvert->jupyter==1.0.0->d2l) (1.5.0)\n",
            "Requirement already satisfied: testpath in /usr/local/lib/python3.7/dist-packages (from nbconvert->jupyter==1.0.0->d2l) (0.6.0)\n",
            "Requirement already satisfied: entrypoints>=0.2.2 in /usr/local/lib/python3.7/dist-packages (from nbconvert->jupyter==1.0.0->d2l) (0.4)\n",
            "Requirement already satisfied: bleach in /usr/local/lib/python3.7/dist-packages (from nbconvert->jupyter==1.0.0->d2l) (5.0.0)\n",
            "Requirement already satisfied: webencodings in /usr/local/lib/python3.7/dist-packages (from bleach->nbconvert->jupyter==1.0.0->d2l) (0.5.1)\n",
            "Requirement already satisfied: qtpy>=2.0.1 in /usr/local/lib/python3.7/dist-packages (from qtconsole->jupyter==1.0.0->d2l) (2.1.0)\n"
          ]
        }
      ],
      "source": [
        "!pip install -U d2l"
      ]
    },
    {
      "cell_type": "code",
      "source": [
        "import torch\n",
        "from torch import nn\n",
        "from d2l import torch as d2l"
      ],
      "metadata": {
        "id": "HQy9XZNUzn9A"
      },
      "execution_count": 118,
      "outputs": []
    },
    {
      "cell_type": "code",
      "source": [
        "num_inputs,n_train,n_test,batch_size=200,20,100,5\n",
        "true_w = torch.ones((num_inputs,1)) * 0.01\n",
        "true_b = 0.05\n",
        "\n",
        "features1,labels1 = d2l.synthetic_data(true_w,true_b,n_train)\n",
        "train_iter = d2l.load_array((features1,labels1),batch_size,is_train=True)\n",
        "#test_data = d2l.synthetic_data(true_w,true_b,n_test)\n",
        "#test_iter = d2l.load_array(test_data,batch_size,is_train=False)\n",
        "features,labels = d2l.synthetic_data(true_w,true_b,n_test)\n",
        "\n",
        "print(true_w[0],true_b,features1,labels1)"
      ],
      "metadata": {
        "colab": {
          "base_uri": "https://localhost:8080/"
        },
        "id": "10vRwn3Nz1vl",
        "outputId": "1fc8dfe1-1bc4-4aef-8cc7-d1ff3d0b6af5"
      },
      "execution_count": 119,
      "outputs": [
        {
          "output_type": "stream",
          "name": "stdout",
          "text": [
            "tensor([0.0100]) 0.05 tensor([[-1.3568, -0.1741, -0.7333,  ..., -0.2317, -0.0369,  0.8692],\n",
            "        [-0.6509, -1.2150, -1.3857,  ..., -1.3276, -1.1004,  0.7631],\n",
            "        [-0.8632,  1.5556, -0.9794,  ..., -0.6905,  0.5707, -0.9708],\n",
            "        ...,\n",
            "        [ 0.3165, -0.9297, -0.6688,  ..., -0.5767, -1.7588, -0.6534],\n",
            "        [-0.2648,  2.1460,  0.2325,  ...,  1.7566,  0.6628, -2.5197],\n",
            "        [-0.8632,  0.0942,  0.7346,  ..., -0.2723,  1.4305,  0.4355]]) tensor([[-0.0523],\n",
            "        [-0.1758],\n",
            "        [ 0.1844],\n",
            "        [-0.0573],\n",
            "        [ 0.1360],\n",
            "        [-0.1547],\n",
            "        [-0.3368],\n",
            "        [ 0.1615],\n",
            "        [ 0.1946],\n",
            "        [ 0.1170],\n",
            "        [ 0.0723],\n",
            "        [-0.1167],\n",
            "        [ 0.1507],\n",
            "        [ 0.1725],\n",
            "        [-0.0396],\n",
            "        [ 0.0377],\n",
            "        [ 0.1293],\n",
            "        [ 0.2116],\n",
            "        [-0.2232],\n",
            "        [-0.1080]])\n"
          ]
        }
      ]
    },
    {
      "cell_type": "code",
      "source": [
        "net = nn.Sequential(nn.Linear(num_inputs,1))\n",
        "\n",
        "w = net[0].weight.data.normal_(0,1)\n",
        "net[0].bias.data.fill_(0)"
      ],
      "metadata": {
        "colab": {
          "base_uri": "https://localhost:8080/"
        },
        "id": "yxPr4yx71SKR",
        "outputId": "7e2fa6fb-6431-4e21-9053-ee0e1f1412d3"
      },
      "execution_count": 120,
      "outputs": [
        {
          "output_type": "execute_result",
          "data": {
            "text/plain": [
              "tensor([0.])"
            ]
          },
          "metadata": {},
          "execution_count": 120
        }
      ]
    },
    {
      "cell_type": "code",
      "source": [
        "loss = nn.MSELoss()\n",
        "trainer = torch.optim.SGD(net.parameters(),lr=0.003)"
      ],
      "metadata": {
        "id": "6lNE4EEJ1wAk"
      },
      "execution_count": 124,
      "outputs": []
    },
    {
      "cell_type": "code",
      "source": [
        "def penalty(w):\n",
        "  return torch.sum(w.pow(2)) / 2\n",
        "print(net[0].weight,net[0].bias)"
      ],
      "metadata": {
        "colab": {
          "base_uri": "https://localhost:8080/"
        },
        "id": "aOnUj6hl2LS9",
        "outputId": "0ce9f71c-642b-4da3-f80d-cebb022d61fe"
      },
      "execution_count": 125,
      "outputs": [
        {
          "output_type": "stream",
          "name": "stdout",
          "text": [
            "Parameter containing:\n",
            "tensor([[ 1.3040, -0.8401,  1.7134,  0.7451, -0.0871,  1.0195,  0.9722, -1.7995,\n",
            "         -0.7310, -0.1511, -0.0444,  0.6069,  1.2303, -0.5701, -0.0093,  0.1886,\n",
            "         -0.9114, -0.0839,  0.0778,  1.1007,  0.2627,  0.7345,  0.7013,  1.1406,\n",
            "         -0.2000,  0.1496,  0.7005,  1.1503, -1.6667,  0.2196,  1.3915,  0.2528,\n",
            "          0.7316, -0.5491,  0.1218, -2.4390, -0.8512,  1.5726, -0.1145,  0.7088,\n",
            "          0.2057,  0.5856, -0.7822,  0.1897, -0.7355,  1.5140, -0.2452, -0.8456,\n",
            "         -0.0861, -0.4555,  1.0673,  0.5103, -0.0410, -1.3030, -1.5094,  0.1821,\n",
            "         -0.9286, -1.5796,  0.3158,  0.2044, -1.2194,  0.4989,  0.3326, -0.1501,\n",
            "          0.1194,  0.7341, -0.6465, -0.4854,  0.3876, -0.1609,  0.9198,  1.6987,\n",
            "         -0.3911, -0.0827,  0.5209,  0.1266,  0.3042,  0.2822,  1.0354,  0.5782,\n",
            "         -1.6598,  0.8270, -0.4691,  0.8868,  0.5437,  0.3749, -0.8133,  1.2337,\n",
            "          0.0680,  0.0609, -0.4944,  0.1079, -0.1658,  0.2966,  0.9141,  0.7897,\n",
            "         -1.1204, -1.0718,  0.1386,  0.0994, -0.1676, -0.2174,  0.6387, -0.0319,\n",
            "          0.4771, -0.8884, -0.3372,  2.0157,  0.8952, -0.1615,  1.2655,  0.3384,\n",
            "         -0.7955,  1.9910,  0.3557,  1.2377, -0.3657,  1.0533, -0.6956, -0.3918,\n",
            "          0.1030,  0.0171,  0.7247,  1.7539,  0.0962,  0.0310, -0.5448, -0.1179,\n",
            "         -0.3721,  1.1822, -0.0051,  1.3336,  0.3682,  1.8778,  1.2401, -0.7946,\n",
            "          0.2526, -0.2856,  0.3379, -0.5412,  1.4515,  0.9941,  0.3740,  1.1747,\n",
            "         -2.7210, -1.2626, -1.7767, -2.3303, -1.5675, -0.7260,  0.4268,  1.6560,\n",
            "         -1.3055,  0.2626,  0.3656,  0.1676,  0.9706,  0.3355, -1.6803,  0.1149,\n",
            "         -1.4112, -0.1148, -1.4377, -0.8630,  0.3555,  0.6231,  0.9415,  0.4767,\n",
            "         -0.4161, -0.7691,  1.7747, -0.8292, -0.9303, -1.5805,  0.5919,  0.3431,\n",
            "         -0.4142, -1.7177, -0.6536,  0.0264, -0.2763, -1.0055, -0.5350, -0.9748,\n",
            "          0.8604, -0.0277,  0.5325, -1.2905,  1.0226, -0.4102, -1.3930, -0.9685,\n",
            "          0.8733,  0.2322,  1.8850, -0.0983,  0.7036, -1.0303, -0.4617, -1.7208]],\n",
            "       requires_grad=True) Parameter containing:\n",
            "tensor([0.0014], requires_grad=True)\n"
          ]
        }
      ]
    },
    {
      "cell_type": "code",
      "source": [
        "num_epochs = 40\n",
        "A,B = test_data\n",
        "lambd = 3\n",
        "\n",
        "for epoch in range(num_epochs):\n",
        "  for X,y in train_iter:\n",
        "   l = loss(net(X),y) + lambd * penalty(w)\n",
        "   trainer.zero_grad()\n",
        "   l.backward()\n",
        "   trainer.step()\n",
        "  l1 = loss(net(features),labels)\n",
        "  l = loss(net(features1),labels1)\n",
        "  print(l1,l)\n"
      ],
      "metadata": {
        "colab": {
          "base_uri": "https://localhost:8080/"
        },
        "id": "qtcvTN-i17hn",
        "outputId": "6eb42cd9-9d44-4996-fb48-a7ea40e4ac7e"
      },
      "execution_count": 128,
      "outputs": [
        {
          "output_type": "stream",
          "name": "stdout",
          "text": [
            "tensor(165.8094, grad_fn=<MseLossBackward0>) tensor(0.0013, grad_fn=<MseLossBackward0>)\n",
            "tensor(165.8120, grad_fn=<MseLossBackward0>) tensor(0.0009, grad_fn=<MseLossBackward0>)\n",
            "tensor(165.8139, grad_fn=<MseLossBackward0>) tensor(0.0006, grad_fn=<MseLossBackward0>)\n",
            "tensor(165.8154, grad_fn=<MseLossBackward0>) tensor(0.0004, grad_fn=<MseLossBackward0>)\n",
            "tensor(165.8165, grad_fn=<MseLossBackward0>) tensor(0.0003, grad_fn=<MseLossBackward0>)\n",
            "tensor(165.8177, grad_fn=<MseLossBackward0>) tensor(0.0002, grad_fn=<MseLossBackward0>)\n",
            "tensor(165.8184, grad_fn=<MseLossBackward0>) tensor(0.0001, grad_fn=<MseLossBackward0>)\n",
            "tensor(165.8190, grad_fn=<MseLossBackward0>) tensor(8.1029e-05, grad_fn=<MseLossBackward0>)\n",
            "tensor(165.8197, grad_fn=<MseLossBackward0>) tensor(5.4731e-05, grad_fn=<MseLossBackward0>)\n",
            "tensor(165.8202, grad_fn=<MseLossBackward0>) tensor(3.6870e-05, grad_fn=<MseLossBackward0>)\n",
            "tensor(165.8204, grad_fn=<MseLossBackward0>) tensor(2.5008e-05, grad_fn=<MseLossBackward0>)\n",
            "tensor(165.8208, grad_fn=<MseLossBackward0>) tensor(1.7035e-05, grad_fn=<MseLossBackward0>)\n",
            "tensor(165.8209, grad_fn=<MseLossBackward0>) tensor(1.1574e-05, grad_fn=<MseLossBackward0>)\n",
            "tensor(165.8211, grad_fn=<MseLossBackward0>) tensor(7.8996e-06, grad_fn=<MseLossBackward0>)\n",
            "tensor(165.8211, grad_fn=<MseLossBackward0>) tensor(5.4176e-06, grad_fn=<MseLossBackward0>)\n",
            "tensor(165.8213, grad_fn=<MseLossBackward0>) tensor(3.7089e-06, grad_fn=<MseLossBackward0>)\n",
            "tensor(165.8213, grad_fn=<MseLossBackward0>) tensor(2.5494e-06, grad_fn=<MseLossBackward0>)\n",
            "tensor(165.8213, grad_fn=<MseLossBackward0>) tensor(1.7543e-06, grad_fn=<MseLossBackward0>)\n",
            "tensor(165.8214, grad_fn=<MseLossBackward0>) tensor(1.2066e-06, grad_fn=<MseLossBackward0>)\n",
            "tensor(165.8214, grad_fn=<MseLossBackward0>) tensor(8.3026e-07, grad_fn=<MseLossBackward0>)\n",
            "tensor(165.8214, grad_fn=<MseLossBackward0>) tensor(5.7693e-07, grad_fn=<MseLossBackward0>)\n",
            "tensor(165.8214, grad_fn=<MseLossBackward0>) tensor(4.0003e-07, grad_fn=<MseLossBackward0>)\n",
            "tensor(165.8214, grad_fn=<MseLossBackward0>) tensor(2.7782e-07, grad_fn=<MseLossBackward0>)\n",
            "tensor(165.8214, grad_fn=<MseLossBackward0>) tensor(1.9375e-07, grad_fn=<MseLossBackward0>)\n",
            "tensor(165.8214, grad_fn=<MseLossBackward0>) tensor(1.3502e-07, grad_fn=<MseLossBackward0>)\n",
            "tensor(165.8214, grad_fn=<MseLossBackward0>) tensor(9.4224e-08, grad_fn=<MseLossBackward0>)\n",
            "tensor(165.8214, grad_fn=<MseLossBackward0>) tensor(6.5954e-08, grad_fn=<MseLossBackward0>)\n",
            "tensor(165.8214, grad_fn=<MseLossBackward0>) tensor(4.6415e-08, grad_fn=<MseLossBackward0>)\n",
            "tensor(165.8214, grad_fn=<MseLossBackward0>) tensor(3.2491e-08, grad_fn=<MseLossBackward0>)\n",
            "tensor(165.8214, grad_fn=<MseLossBackward0>) tensor(2.2829e-08, grad_fn=<MseLossBackward0>)\n",
            "tensor(165.8214, grad_fn=<MseLossBackward0>) tensor(1.6035e-08, grad_fn=<MseLossBackward0>)\n",
            "tensor(165.8214, grad_fn=<MseLossBackward0>) tensor(1.1264e-08, grad_fn=<MseLossBackward0>)\n",
            "tensor(165.8214, grad_fn=<MseLossBackward0>) tensor(8.0267e-09, grad_fn=<MseLossBackward0>)\n",
            "tensor(165.8214, grad_fn=<MseLossBackward0>) tensor(5.6325e-09, grad_fn=<MseLossBackward0>)\n",
            "tensor(165.8214, grad_fn=<MseLossBackward0>) tensor(4.0403e-09, grad_fn=<MseLossBackward0>)\n",
            "tensor(165.8214, grad_fn=<MseLossBackward0>) tensor(2.8427e-09, grad_fn=<MseLossBackward0>)\n",
            "tensor(165.8214, grad_fn=<MseLossBackward0>) tensor(2.0016e-09, grad_fn=<MseLossBackward0>)\n",
            "tensor(165.8214, grad_fn=<MseLossBackward0>) tensor(1.4316e-09, grad_fn=<MseLossBackward0>)\n",
            "tensor(165.8214, grad_fn=<MseLossBackward0>) tensor(1.0043e-09, grad_fn=<MseLossBackward0>)\n",
            "tensor(165.8214, grad_fn=<MseLossBackward0>) tensor(7.5226e-10, grad_fn=<MseLossBackward0>)\n"
          ]
        }
      ]
    }
  ]
}